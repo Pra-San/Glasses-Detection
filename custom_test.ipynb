{
 "cells": [
  {
   "cell_type": "code",
   "execution_count": null,
   "metadata": {},
   "outputs": [],
   "source": [
    "import tensorflow as tf\n",
    "from tensorflow import keras\n",
    "from keras import models\n"
   ]
  },
  {
   "cell_type": "code",
   "execution_count": null,
   "metadata": {},
   "outputs": [],
   "source": [
    "loaded_model = tf.keras.models.load_model('three_epochs.h5')\n"
   ]
  },
  {
   "cell_type": "code",
   "execution_count": null,
   "metadata": {},
   "outputs": [],
   "source": [
    "class_names=['glasses','no glasses']"
   ]
  },
  {
   "cell_type": "code",
   "execution_count": null,
   "metadata": {},
   "outputs": [],
   "source": [
    "import cv2\n",
    "import matplotlib.pyplot as plt\n",
    "import numpy as np\n",
    "img_path = r\"./image.png\"\n",
    "img = cv2.imread(img_path)\n",
    "\n",
    "# Convert the image from BGR to RGB\n",
    "img = cv2.cvtColor(img, cv2.COLOR_BGR2RGB)\n",
    "\n",
    "resized_img = tf.image.resize(img, (128,128))\n",
    "plt.imshow(resized_img.numpy().astype(int))\n",
    "plt.show()\n",
    "\n",
    "yhat=loaded_model.predict(np.expand_dims(resized_img/255, 0))\n",
    "print(yhat)\n",
    "\n",
    "# print(np.argmax(yhat))\n",
    "\n",
    "predicted_label = class_names[np.argmax(yhat)]\n",
    "print(predicted_label)\n",
    "\n",
    "print(f'Confidence: {np.max(yhat)*100:.2f}%')"
   ]
  },
  {
   "cell_type": "code",
   "execution_count": null,
   "metadata": {},
   "outputs": [],
   "source": []
  }
 ],
 "metadata": {
  "kernelspec": {
   "display_name": "base",
   "language": "python",
   "name": "python3"
  },
  "language_info": {
   "codemirror_mode": {
    "name": "ipython",
    "version": 3
   },
   "file_extension": ".py",
   "mimetype": "text/x-python",
   "name": "python",
   "nbconvert_exporter": "python",
   "pygments_lexer": "ipython3",
   "version": "3.11.5"
  }
 },
 "nbformat": 4,
 "nbformat_minor": 2
}
